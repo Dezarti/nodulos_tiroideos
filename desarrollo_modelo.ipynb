{
 "cells": [
  {
   "cell_type": "markdown",
   "metadata": {},
   "source": [
    "# **Desarrollo de un Modelo Abierto de Redes Neuronales Convolucionales para el Diagnóstico y Segmentación de Nódulos Tiroideos según la ARC-TIRADS Mediante Transferencia de Aprendizaje**\n",
    "\n",
    "## Alejandro Martínez Hernández"
   ]
  },
  {
   "cell_type": "markdown",
   "metadata": {},
   "source": [
    "En el proyecto propuesto, se desarrollará de un modelo abierto de redes neuronales convolucionales para el diagnóstico y segmentación de nódulos tiroideos. Se dispondrá de la base de datos abierta de imágenes ecográficas de tiroides enriquecida con anotaciones clínicas (segunda versión del 2023), proporcionada por el grupo de investigación Computer Imaging and Medical Applications Laboratory (CIM@LAB) de la Universidad Nacional de Colombia y el Instituto de Diagnóstico Médico (IDIME). Se empleará la técnica de transferencia de aprendizaje con modelos avanzados como MobileNetV3 y U-NET. Se evaluará si la fusión de múltiples modelos mejora la precisión del diagnóstico."
   ]
  },
  {
   "cell_type": "markdown",
   "metadata": {},
   "source": [
    "## **Exploración de los datos**"
   ]
  },
  {
   "cell_type": "markdown",
   "metadata": {},
   "source": [
    "En 2015, el grupo de investigación CIM@LAB, en colaboración con el IDIME, publicó lo que sería la primera versión de la \"Digital Database of Thyroid Ultrasound Images\" (DDTI). Esta versión inicial constaba de 99 casos, con 134 imágenes en formato JPG y un archivo '.xml' que contenía anotaciones clínicas realizadas por expertos, además de la información de cada paciente. A lo largo de los años, la base de datos ha sido objeto de actualizaciones periódicas, incorporando nuevos casos para enriquecer su contenido.\n",
    "\n",
    "Para el año 2023, la DDTI experimentó su última actualización, la cual se llevó a cabo para alinearla con los criterios más recientes establecidos por la ARC-TIRADS. Esta actualización implicó una serie de revisiones, reevaluación de la calidad de las imágenes, modificaciones en las anotaciones, considerando la inclusión de nuevos especialistas. Además, el cambio de formato se diseñó para facilitar la integración de las anotaciones con plataformas más compatibles con las necesidades del profesional clínico. A pesar de estos ajustes, es importante señalar que los cambios implementados no afectan el diagnóstico de malignidad derivado de las imágenes. La reducción en el número de casos disponibles en la base de datos se justifica por la necesidad de cumplir con las demandas de esta actualización. Como se destaca en la documentación de la primera versión de la base de datos, se identificó que no todas las imágenes contaban con las anotaciones apropiadas tras ser evaluadas radiológicamente y confirmadas patológicamente.\n",
    "\n",
    "\n",
    "Si desea conocer todas las versiones de la base de datos, puede consultar el siguiente enlace: http://cimalab.unal.edu.co/applications/thyroid/"
   ]
  },
  {
   "cell_type": "markdown",
   "metadata": {},
   "source": [
    "### **Creación de directorios**"
   ]
  },
  {
   "cell_type": "markdown",
   "metadata": {},
   "source": [
    "Con la finalidad de hacer más versatil este repositorio, los siguientes códigos se encargaran de establecer la estructura de directorios a seguir para evitar al máximo posibles errores."
   ]
  },
  {
   "cell_type": "code",
   "execution_count": 1,
   "metadata": {},
   "outputs": [],
   "source": [
    "import os\n",
    "import shutil\n",
    "\n",
    "def recrear_carpeta(carpeta):\n",
    "    \"\"\"\n",
    "    Elimina la carpeta especificada si existe y luego la crea de nuevo.\n",
    "    \n",
    "    Parámetros:\n",
    "    carpeta (str): Ruta de la carpeta a recrear.\n",
    "    \"\"\"\n",
    "    if os.path.exists(carpeta):\n",
    "        shutil.rmtree(carpeta)\n",
    "    os.makedirs(carpeta)\n",
    "\n",
    "def crear_subcarpetas(carpeta_principal, subcarpetas, subcarpeta_padre=None):\n",
    "    \"\"\"\n",
    "    Crea subcarpetas dentro de una carpeta principal. Si se especifica una subcarpeta_padre,\n",
    "    las subcarpetas se crearán dentro de esta.\n",
    "    \n",
    "    Parámetros:\n",
    "    carpeta_principal (str): Ruta de la carpeta principal.\n",
    "    subcarpetas (list): Lista de nombres de subcarpetas a crear.\n",
    "    subcarpeta_padre (str): Nombre de la subcarpeta dentro de la cual se crearán nuevas subcarpetas.\n",
    "    \"\"\"\n",
    "    # Determinar la ruta base donde se crearán las subcarpetas\n",
    "    ruta_base = carpeta_principal if subcarpeta_padre is None else os.path.join(carpeta_principal, subcarpeta_padre)\n",
    "    \n",
    "    # Asegurar que la ruta base exista\n",
    "    if not os.path.exists(ruta_base):\n",
    "        os.makedirs(ruta_base)\n",
    "    \n",
    "    # Crear cada subcarpeta\n",
    "    for subcarpeta in subcarpetas:\n",
    "        os.makedirs(os.path.join(ruta_base, subcarpeta), exist_ok=True)\n",
    "\n",
    "\n",
    "# Aplicación de función\n",
    "carpeta_principal = 'db_unal'\n",
    "subcarpetas = ['originals', 'organized']  # Subcarpetas a crear directamente en db_unal\n",
    "subcarpeta_dentro_v1 = ['DDTI_V1', 'DDTI_V2']  # Subcarpetas a crear directamente en originals\n",
    "\n",
    "# Recrear la carpeta principal db_unal y crea \"originals\" y \"organized\" dentro de ella\n",
    "recrear_carpeta(carpeta_principal)\n",
    "crear_subcarpetas(carpeta_principal, subcarpetas)\n",
    "\n",
    "# Crear subcarpetas adicionales dentro de DDTI_V1\n",
    "crear_subcarpetas(carpeta_principal, subcarpeta_dentro_v1, 'originals')"
   ]
  },
  {
   "cell_type": "markdown",
   "metadata": {},
   "source": [
    "### **Descarga y descompresión de las bases de datos**\n",
    "\n",
    "Se recuerda que si bien hay varias versiones de las bases de datos, lo que se ha cambiado han sido las etiquetas, anotaciones o metadata, pero no las imágenes como tal (salvo la cantidad de estas), así que se dispone acontinuación es la comparación de versiones. "
   ]
  },
  {
   "cell_type": "code",
   "execution_count": 3,
   "metadata": {},
   "outputs": [
    {
     "name": "stdout",
     "output_type": "stream",
     "text": [
      "Descargando thyroid.zip...\n",
      "thyroid.zip descargado exitosamente.\n",
      "Extrayendo el contenido de thyroid.zip...\n",
      "Contenido extraído exitosamente en db_unal/originals/DDTI_V1.\n",
      "thyroid.zip eliminado para ahorrar espacio \n",
      " \n",
      "\n",
      "Descargando DDTI_V2.zip...\n",
      "DDTI_V2.zip descargado exitosamente.\n",
      "Extrayendo el contenido de DDTI_V2.zip...\n",
      "Contenido extraído exitosamente en db_unal/originals/DDTI_V2.\n",
      "DDTI_V2.zip eliminado para ahorrar espacio \n",
      " \n",
      "\n",
      "Por favor revise los directorios\n"
     ]
    }
   ],
   "source": [
    "import requests\n",
    "import zipfile\n",
    "import os\n",
    "import shutil\n",
    "\n",
    "\n",
    "def vaciar_carpeta(ruta):\n",
    "    \"\"\"\n",
    "    Elimina todo el contenido de una carpeta específica.\n",
    "    \n",
    "    Parámetros:\n",
    "    ruta (str): Ruta de la carpeta a vaciar.\n",
    "    \"\"\"\n",
    "    for contenido in os.listdir(ruta):\n",
    "        contenido_ruta = os.path.join(ruta, contenido)\n",
    "        try:\n",
    "            if os.path.isfile(contenido_ruta) or os.path.islink(contenido_ruta):\n",
    "                os.unlink(contenido_ruta)\n",
    "            elif os.path.isdir(contenido_ruta):\n",
    "                shutil.rmtree(contenido_ruta)\n",
    "        except Exception as e:\n",
    "            print(f'Error al eliminar {contenido_ruta}. Razón: {e}')\n",
    "\n",
    "\n",
    "def descargar_y_extraer_zip(url, ruta_destino):\n",
    "    \"\"\"\n",
    "    Descarga un archivo .zip desde una URL, vacía la carpeta destino,\n",
    "    extrae el contenido del .zip en la carpeta destino, y elimina el archivo .zip.\n",
    "    \n",
    "    Parámetros:\n",
    "    url (str): URL del archivo .zip a descargar.\n",
    "    ruta_destino (str): Ruta donde se vaciará el contenido, guardará el .zip y se extraerá su contenido.\n",
    "    \"\"\"\n",
    "    # Asegurarse de que la carpeta destino existe\n",
    "    if not os.path.exists(ruta_destino):\n",
    "        os.makedirs(ruta_destino)\n",
    "    else:\n",
    "        # Vaciar el contenido de la carpeta destino\n",
    "        vaciar_carpeta(ruta_destino)\n",
    "    \n",
    "    # Continuar con el proceso de descarga y extracción\n",
    "    nombre_zip = url.split('/')[-1]\n",
    "    ruta_zip = os.path.join(ruta_destino, nombre_zip)\n",
    "    \n",
    "    # Descargar el archivo .zip\n",
    "    print(f\"Descargando {nombre_zip}...\")\n",
    "    respuesta = requests.get(url)\n",
    "    with open(ruta_zip, 'wb') as archivo_zip:\n",
    "        archivo_zip.write(respuesta.content)\n",
    "    print(f\"{nombre_zip} descargado exitosamente.\")\n",
    "    \n",
    "    # Extraer el contenido del .zip\n",
    "    print(f\"Extrayendo el contenido de {nombre_zip}...\")\n",
    "    with zipfile.ZipFile(ruta_zip, 'r') as archivo_zip:\n",
    "        archivo_zip.extractall(ruta_destino)\n",
    "    print(f\"Contenido extraído exitosamente en {ruta_destino}.\")\n",
    "    \n",
    "    # Eliminar el archivo .zip\n",
    "    os.remove(ruta_zip)\n",
    "    print(f\"{nombre_zip} eliminado para ahorrar espacio \\n \\n\")\n",
    "\n",
    "\n",
    "# Descargar y extraer primera versión de la base de datos\n",
    "url_v1 = \"http://cimalab.unal.edu.co/applications/thyroid/thyroid.zip\"  # Dirección primera versión base de datos\n",
    "ruta_destino_v1 = \"db_unal/originals/DDTI_V1\"  # Ruta destino base de datos\n",
    "descargar_y_extraer_zip(url_v1, ruta_destino_v1)\n",
    "\n",
    "# Descargar y extraer versión 2023 de la base de datos\n",
    "url_v2 = \"http://cimalab.unal.edu.co/applications/thyroid/DDTI_V2.zip\"  # Reemplaza esto con la URL del archivo .zip\n",
    "ruta_destino_v2 = \"db_unal/originals/DDTI_V2\"  # Reemplaza esto con la ruta donde deseas guardar y extraer el contenido\n",
    "descargar_y_extraer_zip(url_v2, ruta_destino_v2)\n",
    "\n",
    "print('Por favor revise los directorios')\n"
   ]
  },
  {
   "cell_type": "markdown",
   "metadata": {},
   "source": [
    "Al revisar los directorios, es notable que la carpeta DDTI_V2.zip tenía una estructura diferente a la carpeta thyroid.zip. Aunque esto no es relevante ni crítico, por razones de orden se procurara homogenizar todas las carpetas con una misma estructura"
   ]
  },
  {
   "cell_type": "code",
   "execution_count": 4,
   "metadata": {},
   "outputs": [
    {
     "name": "stdout",
     "output_type": "stream",
     "text": [
      "Las siguientes son las modificaciones en los directorios: \n",
      "\n",
      "    Se ha movido el contenido de 'db_unal/originals/DDTI_V2/DDTI_V2' a 'db_unal/originals/DDTI_V2'.\n",
      "    Se ha eliminado la carpeta 'db_unal/originals/DDTI_V2/DDTI_V2' \n",
      "\n",
      "    Se ha movido el contenido de 'db_unal/originals/DDTI_V2/Radiologist Segmentations/Segmentations' a 'db_unal/originals/DDTI_V2/Radiologist Segmentations'.\n",
      "    Se ha eliminado la carpeta 'db_unal/originals/DDTI_V2/Radiologist Segmentations/Segmentations' \n",
      "\n",
      "    Se ha movido el contenido de 'db_unal/originals/DDTI_V2/ResidentSegmentations/Segmentations' a 'db_unal/originals/DDTI_V2/ResidentSegmentations'.\n",
      "    Se ha eliminado la carpeta 'db_unal/originals/DDTI_V2/ResidentSegmentations/Segmentations' \n",
      "\n",
      "    La carpeta 'db_unal/originals/DDTI_V2/Radiologist Segmentations' ha sido renombrada a 'db_unal/originals/DDTI_V2/RadiologistSegmentations'. \n",
      "\n"
     ]
    }
   ],
   "source": [
    "import os\n",
    "import shutil\n",
    "\n",
    "def mover_y_eliminar_carpeta(origen, destino):\n",
    "    \"\"\"\n",
    "    Mueve todo el contenido de la carpeta origen a la carpeta destino\n",
    "    y luego elimina la carpeta origen.\n",
    "\n",
    "    Parámetros:\n",
    "    origen (str): Ruta de la carpeta origen cuyo contenido será movido.\n",
    "    destino (str): Ruta de la carpeta destino donde se moverá el contenido.\n",
    "    \"\"\"\n",
    "\n",
    "    try:\n",
    "        # Asegurarse de que la carpeta destino existe, si no, crearla\n",
    "        if not os.path.exists(destino):\n",
    "            os.makedirs(destino)\n",
    "\n",
    "        # Mover cada elemento de la carpeta origen al destino\n",
    "        print(f\"    Se ha movido el contenido de '{origen}' a '{destino}'.\")\n",
    "        for contenido in os.listdir(origen):\n",
    "            ruta_origen = os.path.join(origen, contenido)\n",
    "            ruta_destino = os.path.join(destino, contenido)\n",
    "\n",
    "            # Si el destino ya tiene un archivo/carpeta con el mismo nombre, eliminarlo primero\n",
    "            if os.path.exists(ruta_destino):\n",
    "                if os.path.isfile(ruta_destino) or os.path.islink(ruta_destino):\n",
    "                    os.unlink(ruta_destino)\n",
    "                elif os.path.isdir(ruta_destino):\n",
    "                    shutil.rmtree(ruta_destino)\n",
    "            \n",
    "            # Mover el contenido\n",
    "            shutil.move(ruta_origen, destino)\n",
    "        \n",
    "        # Eliminar la carpeta origen ahora que está vacía\n",
    "        os.rmdir(origen)\n",
    "        print(f\"    Se ha eliminado la carpeta '{origen}' \\n\")\n",
    "\n",
    "    except:\n",
    "        print('''Al parecer algunas de las rutas no existe,\n",
    "        es probable que ya se haya eliminado cuando se \n",
    "        ejecutó este código anteriormente''')\n",
    "        \n",
    "\n",
    "def cambiar_nombre_carpeta(nombre_actual, nuevo_nombre):\n",
    "    \"\"\"\n",
    "    Cambia el nombre de una carpeta de 'nombre_actual' a 'nuevo_nombre'.\n",
    "\n",
    "    Parámetros:\n",
    "    nombre_actual (str): El nombre actual o ruta completa de la carpeta.\n",
    "    nuevo_nombre (str): El nuevo nombre o ruta completa que se desea asignar a la carpeta.\n",
    "    \"\"\"\n",
    "    try:\n",
    "        os.rename(nombre_actual, nuevo_nombre)\n",
    "        print(f\"    La carpeta '{nombre_actual}' ha sido renombrada a '{nuevo_nombre}'. \\n\")\n",
    "    except OSError as e:\n",
    "        print(f\"    Error: {e}\")\n",
    "\n",
    "\n",
    "print('Las siguientes son las modificaciones en los directorios: \\n')\n",
    "\n",
    "# Simplificar DDTI_V2 en una sola carpeta\n",
    "carpeta_origen_1 = 'db_unal/originals/DDTI_V2/DDTI_V2'\n",
    "carpeta_destino_1 = 'db_unal/originals/DDTI_V2'\n",
    "mover_y_eliminar_carpeta(carpeta_origen_1, carpeta_destino_1)\n",
    "\n",
    "# Simplificar Radiologist Segmentations en una sola carpeta\n",
    "carpeta_origen_2 = 'db_unal/originals/DDTI_V2/Radiologist Segmentations/Segmentations'\n",
    "carpeta_destino_2 = 'db_unal/originals/DDTI_V2/Radiologist Segmentations'\n",
    "mover_y_eliminar_carpeta(carpeta_origen_2, carpeta_destino_2) \n",
    "\n",
    "# Simplificar Radiologist Segmentations en una sola carpeta\n",
    "carpeta_origen_3 = 'db_unal/originals/DDTI_V2/ResidentSegmentations/Segmentations'\n",
    "carpeta_destino_3 = 'db_unal/originals/DDTI_V2/ResidentSegmentations'\n",
    "mover_y_eliminar_carpeta(carpeta_origen_3, carpeta_destino_3) \n",
    "\n",
    "# Homogenizar nombres en carpetas\n",
    "nombre_actual = 'db_unal/originals/DDTI_V2/Radiologist Segmentations'\n",
    "nuevo_nombre = 'db_unal/originals/DDTI_V2/RadiologistSegmentations'\n",
    "cambiar_nombre_carpeta(nombre_actual, nuevo_nombre)"
   ]
  },
  {
   "cell_type": "markdown",
   "metadata": {},
   "source": [
    "### ***Dejo esta nota para mi, puesto que necesitaré recordar preguntarle a los encargados de mantenimiento de la base de datos qué significa esa estructura tan diferente respecto a las carpetas de segmentación***"
   ]
  },
  {
   "cell_type": "markdown",
   "metadata": {},
   "source": [
    "### **Conteo de datos**\n",
    "\n",
    "Se debe verificar la cantidad de datos a tratar.\n",
    "Previamente se conoce la cantidad de datos que hay en las DDTI V1 y V2, sin embargo se debe asegurar que la descarga y la descompresión que se realiza en los anteriores pasos sea realizada correctamente."
   ]
  },
  {
   "cell_type": "code",
   "execution_count": 5,
   "metadata": {},
   "outputs": [
    {
     "name": "stdout",
     "output_type": "stream",
     "text": [
      "DDTI_V1:\n",
      "    Se tienen los 390 archivos xml\n",
      "    Se tienen las 480 imágenes\n",
      "Todo se descargó y descomprimió correctamente \n",
      " \n",
      "\n",
      "DDTI_V2:\n",
      "    Se tienen las 179 anotaciones del radiologo\n",
      "    Se tienen las 174 anotaciones del residente\n",
      "Todo se descargó y descomprimió correctamente\n"
     ]
    }
   ],
   "source": [
    "# Importar las librerías necesarias\n",
    "import glob\n",
    "\n",
    "# Definir funciones para la revisión de las DDTI\n",
    "def revision_DDTI_V1(path_database):\n",
    "    \"\"\"\n",
    "    Revisa la cantidad total de archivos existentes en la primera versión\n",
    "    de la base de datos (DDTI_V1)\n",
    "    \n",
    "    Parámetros:\n",
    "    path_database (str): Ruta a la carpeta DDTI_V1\n",
    "    \"\"\"\n",
    "    numero_imagenes = glob.glob(path_database + '/*.xml') # Agrupa todos los archivos .xml\n",
    "    numero_xml = glob.glob(path_database + '/*.jpg' ) # Agrupa todos los archivos .jpg\n",
    "    cantidad_archivos = len(numero_imagenes) + len(numero_xml) # Realiza la suma total de archivos en la ruta\n",
    "    \n",
    "    # Al momento de realizar este trabajo se sabe que el número de archivos\n",
    "    # en la primera versión es 870\n",
    "    if cantidad_archivos == 870:\n",
    "        print('DDTI_V1:')\n",
    "        print(f'    Se tienen los {len(numero_imagenes)} archivos xml')\n",
    "        print(f'    Se tienen las {len(numero_xml)} imágenes')\n",
    "        print('Todo se descargó y descomprimió correctamente \\n \\n')\n",
    "    else:\n",
    "        print(f'''Hubo un error, la cantidad de archivos para la primera versión\n",
    "              debería ser 870, no {cantidad_archivos}.\n",
    "              Por favor revise si la base de datos fue alterada en el proceso,\n",
    "              CIMALAB podría haber hecho modificaciones en la misma.''')\n",
    "\n",
    "\n",
    "def revision_DDTI_V2(path_database):\n",
    "    \"\"\"\n",
    "    Revisa la cantidad total de archivos existentes en la segunda versión\n",
    "    de la base de datos (DDTI_V2) según su analista de segmentación\n",
    "    \n",
    "    Parámetros:\n",
    "    path_database (str): Ruta a la carpeta DDTI_V2\n",
    "    \"\"\"\n",
    "    numero_archivos_radiologo = glob.glob(path_database + '/RadiologistSegmentations/*.nii') # Agrupa todos los archivos .nii\n",
    "    numero_archivos_residente = glob.glob(path_database + '/ResidentSegmentations/*.nii') # Agrupa todos los archivos .nii\n",
    "    cantidad_archivos = len(numero_archivos_radiologo) + len(numero_archivos_residente) # Realiza la suma total de archivos en la ruta\n",
    "    \n",
    "    # Al momento de realizar este trabajo se sabe que el número de archivos\n",
    "    # en la primera versión es 870\n",
    "    if cantidad_archivos == 353:\n",
    "        print('DDTI_V2:')\n",
    "        print(f'    Se tienen las {len(numero_archivos_radiologo)} anotaciones del radiologo')\n",
    "        print(f'    Se tienen las {len(numero_archivos_residente)} anotaciones del residente')\n",
    "        print('Todo se descargó y descomprimió correctamente')\n",
    "    else:\n",
    "        print(f'''Hubo un error.\n",
    "              Por favor revise si la base de datos fue alterada en el proceso,\n",
    "              CIMALAB podría haber hecho modificaciones en la misma.''')\n",
    "        \n",
    "\n",
    "# Revisión de la DDTI_V1\n",
    "revision_DDTI_V1('db_unal/originals/DDTI_V1')\n",
    "\n",
    "# Revisión de la DDTI_V2\n",
    "revision_DDTI_V2('db_unal/originals/DDTI_V2')\n"
   ]
  },
  {
   "cell_type": "markdown",
   "metadata": {},
   "source": [
    "### **Tabulación de datos**\n",
    "Las imagenes y otra información de los pacientes solo se encuentran en la DDTI_V1, es por ello que se tabula la información de los archivos .xml.\n",
    "Posteriormente con esta información se podrá actualizar con la presente en la DDTI_V2."
   ]
  },
  {
   "cell_type": "code",
   "execution_count": 3,
   "metadata": {},
   "outputs": [
    {
     "data": {
      "text/html": [
       "<div>\n",
       "<style scoped>\n",
       "    .dataframe tbody tr th:only-of-type {\n",
       "        vertical-align: middle;\n",
       "    }\n",
       "\n",
       "    .dataframe tbody tr th {\n",
       "        vertical-align: top;\n",
       "    }\n",
       "\n",
       "    .dataframe thead th {\n",
       "        text-align: right;\n",
       "    }\n",
       "</style>\n",
       "<table border=\"1\" class=\"dataframe\">\n",
       "  <thead>\n",
       "    <tr style=\"text-align: right;\">\n",
       "      <th></th>\n",
       "      <th>Numero</th>\n",
       "      <th>Edad</th>\n",
       "      <th>Sexo</th>\n",
       "      <th>Composicion</th>\n",
       "      <th>Ecogenicidad</th>\n",
       "      <th>Margenes</th>\n",
       "      <th>Calcificaciones</th>\n",
       "      <th>Tirads</th>\n",
       "    </tr>\n",
       "  </thead>\n",
       "  <tbody>\n",
       "    <tr>\n",
       "      <th>0</th>\n",
       "      <td>1</td>\n",
       "      <td>NaN</td>\n",
       "      <td>None</td>\n",
       "      <td>None</td>\n",
       "      <td>None</td>\n",
       "      <td>None</td>\n",
       "      <td>None</td>\n",
       "      <td>None</td>\n",
       "    </tr>\n",
       "    <tr>\n",
       "      <th>1</th>\n",
       "      <td>10</td>\n",
       "      <td>74.0</td>\n",
       "      <td>F</td>\n",
       "      <td>solid</td>\n",
       "      <td>hyperechogenicity</td>\n",
       "      <td>spiculated</td>\n",
       "      <td>microcalcifications</td>\n",
       "      <td>4b</td>\n",
       "    </tr>\n",
       "    <tr>\n",
       "      <th>2</th>\n",
       "      <td>100</td>\n",
       "      <td>39.0</td>\n",
       "      <td>F</td>\n",
       "      <td>predominantly solid</td>\n",
       "      <td>isoechogenicity</td>\n",
       "      <td>well defined</td>\n",
       "      <td>macrocalcifications</td>\n",
       "      <td>4a</td>\n",
       "    </tr>\n",
       "    <tr>\n",
       "      <th>3</th>\n",
       "      <td>101</td>\n",
       "      <td>40.0</td>\n",
       "      <td>M</td>\n",
       "      <td>solid</td>\n",
       "      <td>hypoechogenicity</td>\n",
       "      <td>well defined</td>\n",
       "      <td>microcalcifications</td>\n",
       "      <td>5</td>\n",
       "    </tr>\n",
       "    <tr>\n",
       "      <th>4</th>\n",
       "      <td>102</td>\n",
       "      <td>28.0</td>\n",
       "      <td>F</td>\n",
       "      <td>solid</td>\n",
       "      <td>isoechogenicity</td>\n",
       "      <td>well defined</td>\n",
       "      <td>microcalcifications</td>\n",
       "      <td>4b</td>\n",
       "    </tr>\n",
       "    <tr>\n",
       "      <th>...</th>\n",
       "      <td>...</td>\n",
       "      <td>...</td>\n",
       "      <td>...</td>\n",
       "      <td>...</td>\n",
       "      <td>...</td>\n",
       "      <td>...</td>\n",
       "      <td>...</td>\n",
       "      <td>...</td>\n",
       "    </tr>\n",
       "    <tr>\n",
       "      <th>385</th>\n",
       "      <td>95</td>\n",
       "      <td>41.0</td>\n",
       "      <td>u</td>\n",
       "      <td>solid</td>\n",
       "      <td>isoechogenicity</td>\n",
       "      <td>well defined</td>\n",
       "      <td>microcalcifications</td>\n",
       "      <td>4a</td>\n",
       "    </tr>\n",
       "    <tr>\n",
       "      <th>386</th>\n",
       "      <td>96</td>\n",
       "      <td>NaN</td>\n",
       "      <td>None</td>\n",
       "      <td>None</td>\n",
       "      <td>None</td>\n",
       "      <td>None</td>\n",
       "      <td>None</td>\n",
       "      <td>None</td>\n",
       "    </tr>\n",
       "    <tr>\n",
       "      <th>387</th>\n",
       "      <td>97</td>\n",
       "      <td>77.0</td>\n",
       "      <td>M</td>\n",
       "      <td>None</td>\n",
       "      <td>None</td>\n",
       "      <td>None</td>\n",
       "      <td>None</td>\n",
       "      <td>None</td>\n",
       "    </tr>\n",
       "    <tr>\n",
       "      <th>388</th>\n",
       "      <td>98</td>\n",
       "      <td>62.0</td>\n",
       "      <td>F</td>\n",
       "      <td>solid</td>\n",
       "      <td>hyperechogenicity</td>\n",
       "      <td>well defined</td>\n",
       "      <td>non</td>\n",
       "      <td>4a</td>\n",
       "    </tr>\n",
       "    <tr>\n",
       "      <th>389</th>\n",
       "      <td>99</td>\n",
       "      <td>NaN</td>\n",
       "      <td>None</td>\n",
       "      <td>None</td>\n",
       "      <td>None</td>\n",
       "      <td>None</td>\n",
       "      <td>None</td>\n",
       "      <td>None</td>\n",
       "    </tr>\n",
       "  </tbody>\n",
       "</table>\n",
       "<p>390 rows × 8 columns</p>\n",
       "</div>"
      ],
      "text/plain": [
       "     Numero  Edad  Sexo          Composicion       Ecogenicidad      Margenes  \\\n",
       "0         1   NaN  None                 None               None          None   \n",
       "1        10  74.0     F                solid  hyperechogenicity    spiculated   \n",
       "2       100  39.0     F  predominantly solid    isoechogenicity  well defined   \n",
       "3       101  40.0     M                solid   hypoechogenicity  well defined   \n",
       "4       102  28.0     F                solid    isoechogenicity  well defined   \n",
       "..      ...   ...   ...                  ...                ...           ...   \n",
       "385      95  41.0     u                solid    isoechogenicity  well defined   \n",
       "386      96   NaN  None                 None               None          None   \n",
       "387      97  77.0     M                 None               None          None   \n",
       "388      98  62.0     F                solid  hyperechogenicity  well defined   \n",
       "389      99   NaN  None                 None               None          None   \n",
       "\n",
       "         Calcificaciones Tirads  \n",
       "0                   None   None  \n",
       "1    microcalcifications     4b  \n",
       "2    macrocalcifications     4a  \n",
       "3    microcalcifications      5  \n",
       "4    microcalcifications     4b  \n",
       "..                   ...    ...  \n",
       "385  microcalcifications     4a  \n",
       "386                 None   None  \n",
       "387                 None   None  \n",
       "388                  non     4a  \n",
       "389                 None   None  \n",
       "\n",
       "[390 rows x 8 columns]"
      ]
     },
     "execution_count": 3,
     "metadata": {},
     "output_type": "execute_result"
    }
   ],
   "source": [
    "# Importar las librerías necesarias\n",
    "import os\n",
    "import xml.etree.ElementTree as ET\n",
    "import pandas as pd\n",
    "\n",
    "# Inicializar listas para almacenar los datos extraídos de los archivos XML\n",
    "numeros = []\n",
    "edades = []\n",
    "sexos = []\n",
    "composiciones = []\n",
    "ecogenicidades = []\n",
    "margenes = []\n",
    "calcificaciones = []\n",
    "tirads = []\n",
    "anotaciones_svg = []\n",
    "\n",
    "# Especificar el directorio que contiene los archivos XML\n",
    "directorio = 'db_unal/originals/DDTI_V1'\n",
    "\n",
    "# Iterar sobre cada archivo en el directorio especificado\n",
    "for filename in os.listdir(directorio):\n",
    "    # Procesar solo los archivos que terminan con '.xml'\n",
    "    if filename.endswith('.xml'):\n",
    "        # Analizar (parse) el archivo XML\n",
    "        tree = ET.parse(os.path.join(directorio, filename))\n",
    "        root = tree.getroot()\n",
    "        \n",
    "        # Extraer y almacenar información relevante en las listas correspondientes\n",
    "        numero = root.find('number').text\n",
    "        numeros.append(int(numero) if numero else None)\n",
    "        \n",
    "        edad = root.find('age').text\n",
    "        edades.append(int(edad) if edad else None)\n",
    "        \n",
    "        sexos.append(root.find('sex').text)\n",
    "        composiciones.append(root.find('composition').text)\n",
    "        ecogenicidades.append(root.find('echogenicity').text)\n",
    "        margenes.append(root.find('margins').text)\n",
    "        calcificaciones.append(root.find('calcifications').text)\n",
    "        tirads.append(root.find('tirads').text)\n",
    "        \n",
    "        # Extraer información de anotaciones en formato SVG\n",
    "        anotaciones_svg.append(root.find('mark').find('svg').text)\n",
    "\n",
    "# Crear un diccionario para facilitar la creación del DataFrame\n",
    "data = {\n",
    "    'Numero': numeros,\n",
    "    'Edad': edades,\n",
    "    'Sexo': sexos,\n",
    "    'Composicion': composiciones,\n",
    "    'Ecogenicidad': ecogenicidades,\n",
    "    'Margenes': margenes,\n",
    "    'Calcificaciones': calcificaciones,\n",
    "    'Tirads': tirads\n",
    "}\n",
    "\n",
    "# Convertir el diccionario a un DataFrame de pandas para análisis posterior\n",
    "df_DDTI_V1 = pd.DataFrame(data)\n",
    "\n",
    "# Imprimir el DataFrame para revisión\n",
    "df_DDTI_V1"
   ]
  },
  {
   "cell_type": "markdown",
   "metadata": {},
   "source": [
    "### Actualización de datos\n",
    "Se recuerda que los datos anteriores corresponden a la primera versión de la DDTI_V1. Según CIM@LAB los nuevos cambios en la reevaluación afectaron la clasificación TIRADS y las anotaciones. \n",
    "\n",
    "Para esta actualización se creará una copia del dataframe anteriormente creado y se usará el archivo \"clasificación.xlsx\" de la carpeta \"RadiologistSegmentations\". "
   ]
  },
  {
   "cell_type": "markdown",
   "metadata": {},
   "source": [
    "#### Importar datos DDTI_V2\n",
    "Se carga el archivo  \"clasificación.xlsx\""
   ]
  },
  {
   "cell_type": "code",
   "execution_count": 2,
   "metadata": {},
   "outputs": [
    {
     "data": {
      "text/html": [
       "<div>\n",
       "<style scoped>\n",
       "    .dataframe tbody tr th:only-of-type {\n",
       "        vertical-align: middle;\n",
       "    }\n",
       "\n",
       "    .dataframe tbody tr th {\n",
       "        vertical-align: top;\n",
       "    }\n",
       "\n",
       "    .dataframe thead th {\n",
       "        text-align: right;\n",
       "    }\n",
       "</style>\n",
       "<table border=\"1\" class=\"dataframe\">\n",
       "  <thead>\n",
       "    <tr style=\"text-align: right;\">\n",
       "      <th></th>\n",
       "      <th>PATIENT NUM</th>\n",
       "      <th>EXPERIENCED RADIOLOGIST</th>\n",
       "      <th>Unnamed: 2</th>\n",
       "      <th>Unnamed: 3</th>\n",
       "    </tr>\n",
       "  </thead>\n",
       "  <tbody>\n",
       "    <tr>\n",
       "      <th>0</th>\n",
       "      <td>NaN</td>\n",
       "      <td>TIRADS</td>\n",
       "      <td>SEGMENTATION</td>\n",
       "      <td>NaN</td>\n",
       "    </tr>\n",
       "    <tr>\n",
       "      <th>1</th>\n",
       "      <td>1_1</td>\n",
       "      <td>5</td>\n",
       "      <td>YES</td>\n",
       "      <td>NaN</td>\n",
       "    </tr>\n",
       "    <tr>\n",
       "      <th>2</th>\n",
       "      <td>1_2</td>\n",
       "      <td>5</td>\n",
       "      <td>YES</td>\n",
       "      <td>NaN</td>\n",
       "    </tr>\n",
       "    <tr>\n",
       "      <th>3</th>\n",
       "      <td>2_1</td>\n",
       "      <td>4</td>\n",
       "      <td>YES</td>\n",
       "      <td>NaN</td>\n",
       "    </tr>\n",
       "    <tr>\n",
       "      <th>4</th>\n",
       "      <td>3_1</td>\n",
       "      <td>4</td>\n",
       "      <td>YES</td>\n",
       "      <td>NaN</td>\n",
       "    </tr>\n",
       "  </tbody>\n",
       "</table>\n",
       "</div>"
      ],
      "text/plain": [
       "  PATIENT NUM EXPERIENCED RADIOLOGIST    Unnamed: 2 Unnamed: 3\n",
       "0         NaN                  TIRADS  SEGMENTATION        NaN\n",
       "1         1_1                       5           YES        NaN\n",
       "2         1_2                       5           YES        NaN\n",
       "3         2_1                       4           YES        NaN\n",
       "4         3_1                       4           YES        NaN"
      ]
     },
     "execution_count": 2,
     "metadata": {},
     "output_type": "execute_result"
    }
   ],
   "source": [
    "import pandas as pd\n",
    "\n",
    "def cargar_excel_a_dataframe(ruta_archivo):\n",
    "    \"\"\"\n",
    "    Carga un archivo de Excel en un DataFrame de pandas.\n",
    "    \n",
    "    Parámetros:\n",
    "    ruta_archivo (str): La ruta completa al archivo de Excel.\n",
    "    \n",
    "    Retorna:\n",
    "    DataFrame: Un DataFrame que contiene los datos del archivo de Excel.\n",
    "    \"\"\"\n",
    "    try:\n",
    "        # Usar pandas para leer el archivo de Excel\n",
    "        df = pd.read_excel(ruta_archivo)\n",
    "        \n",
    "        # Retorna el DataFrame cargado\n",
    "        return df\n",
    "    except Exception as e:\n",
    "        print(f\"Error al cargar el archivo: {e}\")\n",
    "        return None\n",
    "\n",
    "# Ruta al archivo de Excel\n",
    "ruta_archivo = 'db_unal/originals/DDTI_V2/RadiologistSegmentations/clasificación.xlsx'\n",
    "\n",
    "# Cargar el archivo de Excel en un DataFrame\n",
    "df_DDTI_V2 = cargar_excel_a_dataframe(ruta_archivo)\n",
    "\n",
    "# Mostrar las primeras filas del DataFrame para verificar\n",
    "df_DDTI_V2.head()\n"
   ]
  },
  {
   "cell_type": "markdown",
   "metadata": {},
   "source": [
    "#### Limpieza DDTI_V2\n",
    "En los datos cargados en el archivo \"clasificación.xlsx\" hay algunos cuya clasificación del sistema TIRADS no es clara o no contiene la anotación.\n",
    "La limpieza se realiza de la siguiente manera:\n",
    "- Eliminar la columna Unnamed: 3\n",
    "- Organizar encabezados\n",
    "- Eliminar filas que SEGMENTATION sea \"NO\" o \"NOT CLEAR\"\n",
    "- Eliminar filas que TIRADS sea \"NOT CLEAR\"\n",
    "- Eliminar todas las filas con valores NULL, NAN o NONE"
   ]
  },
  {
   "cell_type": "code",
   "execution_count": 3,
   "metadata": {},
   "outputs": [
    {
     "data": {
      "text/html": [
       "<div>\n",
       "<style scoped>\n",
       "    .dataframe tbody tr th:only-of-type {\n",
       "        vertical-align: middle;\n",
       "    }\n",
       "\n",
       "    .dataframe tbody tr th {\n",
       "        vertical-align: top;\n",
       "    }\n",
       "\n",
       "    .dataframe thead th {\n",
       "        text-align: right;\n",
       "    }\n",
       "</style>\n",
       "<table border=\"1\" class=\"dataframe\">\n",
       "  <thead>\n",
       "    <tr style=\"text-align: right;\">\n",
       "      <th></th>\n",
       "      <th>Numero paciente</th>\n",
       "      <th>TIRADS</th>\n",
       "      <th>Segmentacion</th>\n",
       "    </tr>\n",
       "  </thead>\n",
       "  <tbody>\n",
       "    <tr>\n",
       "      <th>1</th>\n",
       "      <td>1_1</td>\n",
       "      <td>5</td>\n",
       "      <td>YES</td>\n",
       "    </tr>\n",
       "    <tr>\n",
       "      <th>2</th>\n",
       "      <td>1_2</td>\n",
       "      <td>5</td>\n",
       "      <td>YES</td>\n",
       "    </tr>\n",
       "    <tr>\n",
       "      <th>3</th>\n",
       "      <td>2_1</td>\n",
       "      <td>4</td>\n",
       "      <td>YES</td>\n",
       "    </tr>\n",
       "    <tr>\n",
       "      <th>4</th>\n",
       "      <td>3_1</td>\n",
       "      <td>4</td>\n",
       "      <td>YES</td>\n",
       "    </tr>\n",
       "    <tr>\n",
       "      <th>5</th>\n",
       "      <td>4_1</td>\n",
       "      <td>3</td>\n",
       "      <td>YES</td>\n",
       "    </tr>\n",
       "    <tr>\n",
       "      <th>...</th>\n",
       "      <td>...</td>\n",
       "      <td>...</td>\n",
       "      <td>...</td>\n",
       "    </tr>\n",
       "    <tr>\n",
       "      <th>171</th>\n",
       "      <td>146_1</td>\n",
       "      <td>3</td>\n",
       "      <td>YES</td>\n",
       "    </tr>\n",
       "    <tr>\n",
       "      <th>172</th>\n",
       "      <td>147_1</td>\n",
       "      <td>5</td>\n",
       "      <td>YES</td>\n",
       "    </tr>\n",
       "    <tr>\n",
       "      <th>173</th>\n",
       "      <td>148_1</td>\n",
       "      <td>4</td>\n",
       "      <td>YES</td>\n",
       "    </tr>\n",
       "    <tr>\n",
       "      <th>174</th>\n",
       "      <td>149_1</td>\n",
       "      <td>5</td>\n",
       "      <td>YES</td>\n",
       "    </tr>\n",
       "    <tr>\n",
       "      <th>175</th>\n",
       "      <td>150_1</td>\n",
       "      <td>3</td>\n",
       "      <td>YES</td>\n",
       "    </tr>\n",
       "  </tbody>\n",
       "</table>\n",
       "<p>171 rows × 3 columns</p>\n",
       "</div>"
      ],
      "text/plain": [
       "    Numero paciente TIRADS Segmentacion\n",
       "1               1_1      5          YES\n",
       "2               1_2      5          YES\n",
       "3               2_1      4          YES\n",
       "4               3_1      4          YES\n",
       "5               4_1      3          YES\n",
       "..              ...    ...          ...\n",
       "171           146_1      3          YES\n",
       "172           147_1      5          YES\n",
       "173           148_1      4          YES\n",
       "174           149_1      5          YES\n",
       "175           150_1      3          YES\n",
       "\n",
       "[171 rows x 3 columns]"
      ]
     },
     "execution_count": 3,
     "metadata": {},
     "output_type": "execute_result"
    }
   ],
   "source": [
    "df_DDTI_V2 =  df_DDTI_V2.drop(df_DDTI_V2.columns[3], axis=1) # Eliminar la columna Unnamed: 3\n",
    "\n",
    " # Organizar encabezados: Cambiar nombres\n",
    "df_DDTI_V2 = df_DDTI_V2.rename(columns={'PATIENT NUM':'Numero paciente',\n",
    "                                   'EXPERIENCED RADIOLOGIST':'TIRADS',\n",
    "                                   'Unnamed: 2': 'Segmentacion'})\n",
    "\n",
    "df_DDTI_V2 = df_DDTI_V2.drop([0]) # Organizar encabezados: Eliminando fila inaportante\n",
    " \n",
    "df_DDTI_V2 = df_DDTI_V2[df_DDTI_V2['Segmentacion']=='YES'] # Eliminar filas que \"Segmentacion\" sea \"NO\" o \"NOT CLEAR\"\n",
    "\n",
    "df_DDTI_V2.dropna() # Eliminar todas las filas con valores NULL, NAN o NONE"
   ]
  },
  {
   "cell_type": "code",
   "execution_count": 4,
   "metadata": {},
   "outputs": [
    {
     "data": {
      "application/vnd.plotly.v1+json": {
       "config": {
        "plotlyServerURL": "https://plot.ly"
       },
       "data": [
        {
         "alignmentgroup": "True",
         "bingroup": "x",
         "hovertemplate": "Categoría TIRADS=%{x}<br>count=%{y}<extra></extra>",
         "legendgroup": "",
         "marker": {
          "color": "#636efa",
          "pattern": {
           "shape": ""
          }
         },
         "name": "",
         "nbinsx": 5,
         "offsetgroup": "",
         "orientation": "v",
         "showlegend": false,
         "type": "histogram",
         "x": [
          5,
          5,
          4,
          4,
          3,
          5,
          3,
          3,
          4,
          2,
          5,
          5,
          3,
          2,
          5,
          4,
          3,
          5,
          3,
          5,
          4,
          3,
          4,
          4,
          5,
          3,
          4,
          3,
          5,
          5,
          5,
          3,
          3,
          2,
          5,
          4,
          5,
          null,
          3,
          3,
          5,
          4,
          4,
          4,
          2,
          4,
          5,
          4,
          5,
          1,
          3,
          4,
          3,
          3,
          4,
          3,
          4,
          3,
          3,
          3,
          4,
          4,
          3,
          4,
          4,
          4,
          5,
          5,
          5,
          5,
          5,
          5,
          5,
          4,
          5,
          2,
          2,
          2,
          1,
          4,
          5,
          3,
          4,
          3,
          3,
          3,
          4,
          2,
          4,
          5,
          null,
          4,
          4,
          3,
          3,
          3,
          5,
          5,
          2,
          4,
          1,
          1,
          3,
          4,
          4,
          3,
          4,
          4,
          4,
          4,
          3,
          3,
          3,
          3,
          2,
          2,
          4,
          4,
          3,
          3,
          3,
          3,
          5,
          3,
          2,
          5,
          3,
          5,
          4,
          4,
          4,
          4,
          3,
          4,
          3,
          5,
          5,
          4,
          5,
          4,
          3,
          4,
          4,
          3,
          3,
          4,
          4,
          3,
          3,
          3,
          3,
          4,
          3,
          3,
          5,
          4,
          3,
          5,
          3,
          4,
          3,
          3,
          3,
          5,
          3,
          5,
          4,
          3,
          3,
          5,
          4,
          5,
          3
         ],
         "xaxis": "x",
         "yaxis": "y"
        }
       ],
       "layout": {
        "bargap": 0.2,
        "barmode": "relative",
        "legend": {
         "tracegroupgap": 0
        },
        "template": {
         "data": {
          "bar": [
           {
            "error_x": {
             "color": "#2a3f5f"
            },
            "error_y": {
             "color": "#2a3f5f"
            },
            "marker": {
             "line": {
              "color": "white",
              "width": 0.5
             },
             "pattern": {
              "fillmode": "overlay",
              "size": 10,
              "solidity": 0.2
             }
            },
            "type": "bar"
           }
          ],
          "barpolar": [
           {
            "marker": {
             "line": {
              "color": "white",
              "width": 0.5
             },
             "pattern": {
              "fillmode": "overlay",
              "size": 10,
              "solidity": 0.2
             }
            },
            "type": "barpolar"
           }
          ],
          "carpet": [
           {
            "aaxis": {
             "endlinecolor": "#2a3f5f",
             "gridcolor": "#C8D4E3",
             "linecolor": "#C8D4E3",
             "minorgridcolor": "#C8D4E3",
             "startlinecolor": "#2a3f5f"
            },
            "baxis": {
             "endlinecolor": "#2a3f5f",
             "gridcolor": "#C8D4E3",
             "linecolor": "#C8D4E3",
             "minorgridcolor": "#C8D4E3",
             "startlinecolor": "#2a3f5f"
            },
            "type": "carpet"
           }
          ],
          "choropleth": [
           {
            "colorbar": {
             "outlinewidth": 0,
             "ticks": ""
            },
            "type": "choropleth"
           }
          ],
          "contour": [
           {
            "colorbar": {
             "outlinewidth": 0,
             "ticks": ""
            },
            "colorscale": [
             [
              0,
              "#0d0887"
             ],
             [
              0.1111111111111111,
              "#46039f"
             ],
             [
              0.2222222222222222,
              "#7201a8"
             ],
             [
              0.3333333333333333,
              "#9c179e"
             ],
             [
              0.4444444444444444,
              "#bd3786"
             ],
             [
              0.5555555555555556,
              "#d8576b"
             ],
             [
              0.6666666666666666,
              "#ed7953"
             ],
             [
              0.7777777777777778,
              "#fb9f3a"
             ],
             [
              0.8888888888888888,
              "#fdca26"
             ],
             [
              1,
              "#f0f921"
             ]
            ],
            "type": "contour"
           }
          ],
          "contourcarpet": [
           {
            "colorbar": {
             "outlinewidth": 0,
             "ticks": ""
            },
            "type": "contourcarpet"
           }
          ],
          "heatmap": [
           {
            "colorbar": {
             "outlinewidth": 0,
             "ticks": ""
            },
            "colorscale": [
             [
              0,
              "#0d0887"
             ],
             [
              0.1111111111111111,
              "#46039f"
             ],
             [
              0.2222222222222222,
              "#7201a8"
             ],
             [
              0.3333333333333333,
              "#9c179e"
             ],
             [
              0.4444444444444444,
              "#bd3786"
             ],
             [
              0.5555555555555556,
              "#d8576b"
             ],
             [
              0.6666666666666666,
              "#ed7953"
             ],
             [
              0.7777777777777778,
              "#fb9f3a"
             ],
             [
              0.8888888888888888,
              "#fdca26"
             ],
             [
              1,
              "#f0f921"
             ]
            ],
            "type": "heatmap"
           }
          ],
          "heatmapgl": [
           {
            "colorbar": {
             "outlinewidth": 0,
             "ticks": ""
            },
            "colorscale": [
             [
              0,
              "#0d0887"
             ],
             [
              0.1111111111111111,
              "#46039f"
             ],
             [
              0.2222222222222222,
              "#7201a8"
             ],
             [
              0.3333333333333333,
              "#9c179e"
             ],
             [
              0.4444444444444444,
              "#bd3786"
             ],
             [
              0.5555555555555556,
              "#d8576b"
             ],
             [
              0.6666666666666666,
              "#ed7953"
             ],
             [
              0.7777777777777778,
              "#fb9f3a"
             ],
             [
              0.8888888888888888,
              "#fdca26"
             ],
             [
              1,
              "#f0f921"
             ]
            ],
            "type": "heatmapgl"
           }
          ],
          "histogram": [
           {
            "marker": {
             "pattern": {
              "fillmode": "overlay",
              "size": 10,
              "solidity": 0.2
             }
            },
            "type": "histogram"
           }
          ],
          "histogram2d": [
           {
            "colorbar": {
             "outlinewidth": 0,
             "ticks": ""
            },
            "colorscale": [
             [
              0,
              "#0d0887"
             ],
             [
              0.1111111111111111,
              "#46039f"
             ],
             [
              0.2222222222222222,
              "#7201a8"
             ],
             [
              0.3333333333333333,
              "#9c179e"
             ],
             [
              0.4444444444444444,
              "#bd3786"
             ],
             [
              0.5555555555555556,
              "#d8576b"
             ],
             [
              0.6666666666666666,
              "#ed7953"
             ],
             [
              0.7777777777777778,
              "#fb9f3a"
             ],
             [
              0.8888888888888888,
              "#fdca26"
             ],
             [
              1,
              "#f0f921"
             ]
            ],
            "type": "histogram2d"
           }
          ],
          "histogram2dcontour": [
           {
            "colorbar": {
             "outlinewidth": 0,
             "ticks": ""
            },
            "colorscale": [
             [
              0,
              "#0d0887"
             ],
             [
              0.1111111111111111,
              "#46039f"
             ],
             [
              0.2222222222222222,
              "#7201a8"
             ],
             [
              0.3333333333333333,
              "#9c179e"
             ],
             [
              0.4444444444444444,
              "#bd3786"
             ],
             [
              0.5555555555555556,
              "#d8576b"
             ],
             [
              0.6666666666666666,
              "#ed7953"
             ],
             [
              0.7777777777777778,
              "#fb9f3a"
             ],
             [
              0.8888888888888888,
              "#fdca26"
             ],
             [
              1,
              "#f0f921"
             ]
            ],
            "type": "histogram2dcontour"
           }
          ],
          "mesh3d": [
           {
            "colorbar": {
             "outlinewidth": 0,
             "ticks": ""
            },
            "type": "mesh3d"
           }
          ],
          "parcoords": [
           {
            "line": {
             "colorbar": {
              "outlinewidth": 0,
              "ticks": ""
             }
            },
            "type": "parcoords"
           }
          ],
          "pie": [
           {
            "automargin": true,
            "type": "pie"
           }
          ],
          "scatter": [
           {
            "fillpattern": {
             "fillmode": "overlay",
             "size": 10,
             "solidity": 0.2
            },
            "type": "scatter"
           }
          ],
          "scatter3d": [
           {
            "line": {
             "colorbar": {
              "outlinewidth": 0,
              "ticks": ""
             }
            },
            "marker": {
             "colorbar": {
              "outlinewidth": 0,
              "ticks": ""
             }
            },
            "type": "scatter3d"
           }
          ],
          "scattercarpet": [
           {
            "marker": {
             "colorbar": {
              "outlinewidth": 0,
              "ticks": ""
             }
            },
            "type": "scattercarpet"
           }
          ],
          "scattergeo": [
           {
            "marker": {
             "colorbar": {
              "outlinewidth": 0,
              "ticks": ""
             }
            },
            "type": "scattergeo"
           }
          ],
          "scattergl": [
           {
            "marker": {
             "colorbar": {
              "outlinewidth": 0,
              "ticks": ""
             }
            },
            "type": "scattergl"
           }
          ],
          "scattermapbox": [
           {
            "marker": {
             "colorbar": {
              "outlinewidth": 0,
              "ticks": ""
             }
            },
            "type": "scattermapbox"
           }
          ],
          "scatterpolar": [
           {
            "marker": {
             "colorbar": {
              "outlinewidth": 0,
              "ticks": ""
             }
            },
            "type": "scatterpolar"
           }
          ],
          "scatterpolargl": [
           {
            "marker": {
             "colorbar": {
              "outlinewidth": 0,
              "ticks": ""
             }
            },
            "type": "scatterpolargl"
           }
          ],
          "scatterternary": [
           {
            "marker": {
             "colorbar": {
              "outlinewidth": 0,
              "ticks": ""
             }
            },
            "type": "scatterternary"
           }
          ],
          "surface": [
           {
            "colorbar": {
             "outlinewidth": 0,
             "ticks": ""
            },
            "colorscale": [
             [
              0,
              "#0d0887"
             ],
             [
              0.1111111111111111,
              "#46039f"
             ],
             [
              0.2222222222222222,
              "#7201a8"
             ],
             [
              0.3333333333333333,
              "#9c179e"
             ],
             [
              0.4444444444444444,
              "#bd3786"
             ],
             [
              0.5555555555555556,
              "#d8576b"
             ],
             [
              0.6666666666666666,
              "#ed7953"
             ],
             [
              0.7777777777777778,
              "#fb9f3a"
             ],
             [
              0.8888888888888888,
              "#fdca26"
             ],
             [
              1,
              "#f0f921"
             ]
            ],
            "type": "surface"
           }
          ],
          "table": [
           {
            "cells": {
             "fill": {
              "color": "#EBF0F8"
             },
             "line": {
              "color": "white"
             }
            },
            "header": {
             "fill": {
              "color": "#C8D4E3"
             },
             "line": {
              "color": "white"
             }
            },
            "type": "table"
           }
          ]
         },
         "layout": {
          "annotationdefaults": {
           "arrowcolor": "#2a3f5f",
           "arrowhead": 0,
           "arrowwidth": 1
          },
          "autotypenumbers": "strict",
          "coloraxis": {
           "colorbar": {
            "outlinewidth": 0,
            "ticks": ""
           }
          },
          "colorscale": {
           "diverging": [
            [
             0,
             "#8e0152"
            ],
            [
             0.1,
             "#c51b7d"
            ],
            [
             0.2,
             "#de77ae"
            ],
            [
             0.3,
             "#f1b6da"
            ],
            [
             0.4,
             "#fde0ef"
            ],
            [
             0.5,
             "#f7f7f7"
            ],
            [
             0.6,
             "#e6f5d0"
            ],
            [
             0.7,
             "#b8e186"
            ],
            [
             0.8,
             "#7fbc41"
            ],
            [
             0.9,
             "#4d9221"
            ],
            [
             1,
             "#276419"
            ]
           ],
           "sequential": [
            [
             0,
             "#0d0887"
            ],
            [
             0.1111111111111111,
             "#46039f"
            ],
            [
             0.2222222222222222,
             "#7201a8"
            ],
            [
             0.3333333333333333,
             "#9c179e"
            ],
            [
             0.4444444444444444,
             "#bd3786"
            ],
            [
             0.5555555555555556,
             "#d8576b"
            ],
            [
             0.6666666666666666,
             "#ed7953"
            ],
            [
             0.7777777777777778,
             "#fb9f3a"
            ],
            [
             0.8888888888888888,
             "#fdca26"
            ],
            [
             1,
             "#f0f921"
            ]
           ],
           "sequentialminus": [
            [
             0,
             "#0d0887"
            ],
            [
             0.1111111111111111,
             "#46039f"
            ],
            [
             0.2222222222222222,
             "#7201a8"
            ],
            [
             0.3333333333333333,
             "#9c179e"
            ],
            [
             0.4444444444444444,
             "#bd3786"
            ],
            [
             0.5555555555555556,
             "#d8576b"
            ],
            [
             0.6666666666666666,
             "#ed7953"
            ],
            [
             0.7777777777777778,
             "#fb9f3a"
            ],
            [
             0.8888888888888888,
             "#fdca26"
            ],
            [
             1,
             "#f0f921"
            ]
           ]
          },
          "colorway": [
           "#636efa",
           "#EF553B",
           "#00cc96",
           "#ab63fa",
           "#FFA15A",
           "#19d3f3",
           "#FF6692",
           "#B6E880",
           "#FF97FF",
           "#FECB52"
          ],
          "font": {
           "color": "#2a3f5f"
          },
          "geo": {
           "bgcolor": "white",
           "lakecolor": "white",
           "landcolor": "white",
           "showlakes": true,
           "showland": true,
           "subunitcolor": "#C8D4E3"
          },
          "hoverlabel": {
           "align": "left"
          },
          "hovermode": "closest",
          "mapbox": {
           "style": "light"
          },
          "paper_bgcolor": "white",
          "plot_bgcolor": "white",
          "polar": {
           "angularaxis": {
            "gridcolor": "#EBF0F8",
            "linecolor": "#EBF0F8",
            "ticks": ""
           },
           "bgcolor": "white",
           "radialaxis": {
            "gridcolor": "#EBF0F8",
            "linecolor": "#EBF0F8",
            "ticks": ""
           }
          },
          "scene": {
           "xaxis": {
            "backgroundcolor": "white",
            "gridcolor": "#DFE8F3",
            "gridwidth": 2,
            "linecolor": "#EBF0F8",
            "showbackground": true,
            "ticks": "",
            "zerolinecolor": "#EBF0F8"
           },
           "yaxis": {
            "backgroundcolor": "white",
            "gridcolor": "#DFE8F3",
            "gridwidth": 2,
            "linecolor": "#EBF0F8",
            "showbackground": true,
            "ticks": "",
            "zerolinecolor": "#EBF0F8"
           },
           "zaxis": {
            "backgroundcolor": "white",
            "gridcolor": "#DFE8F3",
            "gridwidth": 2,
            "linecolor": "#EBF0F8",
            "showbackground": true,
            "ticks": "",
            "zerolinecolor": "#EBF0F8"
           }
          },
          "shapedefaults": {
           "line": {
            "color": "#2a3f5f"
           }
          },
          "ternary": {
           "aaxis": {
            "gridcolor": "#DFE8F3",
            "linecolor": "#A2B1C6",
            "ticks": ""
           },
           "baxis": {
            "gridcolor": "#DFE8F3",
            "linecolor": "#A2B1C6",
            "ticks": ""
           },
           "bgcolor": "white",
           "caxis": {
            "gridcolor": "#DFE8F3",
            "linecolor": "#A2B1C6",
            "ticks": ""
           }
          },
          "title": {
           "x": 0.05
          },
          "xaxis": {
           "automargin": true,
           "gridcolor": "#EBF0F8",
           "linecolor": "#EBF0F8",
           "ticks": "",
           "title": {
            "standoff": 15
           },
           "zerolinecolor": "#EBF0F8",
           "zerolinewidth": 2
          },
          "yaxis": {
           "automargin": true,
           "gridcolor": "#EBF0F8",
           "linecolor": "#EBF0F8",
           "ticks": "",
           "title": {
            "standoff": 15
           },
           "zerolinecolor": "#EBF0F8",
           "zerolinewidth": 2
          }
         }
        },
        "title": {
         "text": "Distribución de TIRADS en DDTI_V2"
        },
        "xaxis": {
         "anchor": "y",
         "domain": [
          0,
          1
         ],
         "title": {
          "text": "Categoría TIRADS"
         }
        },
        "yaxis": {
         "anchor": "x",
         "domain": [
          0,
          1
         ],
         "title": {
          "text": "Frecuencia"
         }
        }
       }
      }
     },
     "metadata": {},
     "output_type": "display_data"
    }
   ],
   "source": [
    "import plotly.express as px\n",
    "\n",
    "def crear_histograma_tirads(df):\n",
    "    \"\"\"\n",
    "    Crea un histograma para la columna 'TIRADS' de un DataFrame utilizando Plotly.\n",
    "    \n",
    "    Parámetros:\n",
    "    df (DataFrame): DataFrame que contiene la columna 'TIRADS'.\n",
    "    \"\"\"\n",
    "    # Crear el histograma utilizando Plotly Express\n",
    "    fig = px.histogram(df, x='TIRADS', nbins=5,\n",
    "                       title='Distribución de TIRADS en DDTI_V2',\n",
    "                       labels={'TIRADS': 'Categoría TIRADS'},\n",
    "                       template='plotly_white')\n",
    "\n",
    "    # Agregar títulos a los ejes\n",
    "    fig.update_layout(\n",
    "        xaxis_title='Categoría TIRADS',\n",
    "        yaxis_title='Frecuencia',\n",
    "        bargap=0.2  # Espacio entre las barras del histograma\n",
    "    )\n",
    "\n",
    "    # Mostrar la figura\n",
    "    fig.show()\n",
    "\n",
    "# Mostrar Gráfico \n",
    "crear_histograma_tirads(df_DDTI_V2)\n"
   ]
  },
  {
   "cell_type": "markdown",
   "metadata": {},
   "source": [
    "De la imagen anterior queda bastante claro que las categorias TIRADS se encuentran bastante desbalanceadas. Es probable que no se pueda hacer una clasificación con todos los niveles de TIRADS.\n",
    "\n",
    "En la carpeta \"organized\" se crean otras carpetas para almacenar las imágenes y anotaciones correspondientes que se van a usar para el entrenamiento"
   ]
  },
  {
   "cell_type": "code",
   "execution_count": 7,
   "metadata": {},
   "outputs": [],
   "source": [
    "# Aplicación de función\n",
    "carpeta_principal_2 = 'db_unal'\n",
    "subcarpetas_dentro_v2 = ['images', 'notes']  # Subcarpetas a crear directamente en db_unal/organized\n",
    "\n",
    "# Crear subcarpetas adicionales dentro de db_unal/organized\n",
    "crear_subcarpetas(carpeta_principal_2, subcarpetas_dentro_v2, 'organized')"
   ]
  }
 ],
 "metadata": {
  "kernelspec": {
   "display_name": "Python 3",
   "language": "python",
   "name": "python3"
  },
  "language_info": {
   "codemirror_mode": {
    "name": "ipython",
    "version": 3
   },
   "file_extension": ".py",
   "mimetype": "text/x-python",
   "name": "python",
   "nbconvert_exporter": "python",
   "pygments_lexer": "ipython3",
   "version": "3.12.2"
  }
 },
 "nbformat": 4,
 "nbformat_minor": 2
}
